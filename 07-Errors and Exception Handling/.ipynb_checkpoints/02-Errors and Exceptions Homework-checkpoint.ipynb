{
 "cells": [
  {
   "cell_type": "markdown",
   "metadata": {},
   "source": [
    "# Errors and Exceptions Homework"
   ]
  },
  {
   "cell_type": "markdown",
   "metadata": {},
   "source": [
    "### Problem 1\n",
    "Handle the exception thrown by the code below by using <code>try</code> and <code>except</code> blocks."
   ]
  },
  {
   "cell_type": "code",
   "execution_count": 1,
   "metadata": {},
   "outputs": [
    {
     "name": "stdout",
     "output_type": "stream",
     "text": [
      "Not an integer, can't multiply\n",
      "Not an integer, can't multiply\n",
      "Not an integer, can't multiply\n"
     ]
    }
   ],
   "source": [
    "for i in ['a','b','c']:\n",
    "    try:\n",
    "        print(i**2)\n",
    "    except TypeError:\n",
    "        print('Not an integer, can\\'t multiply')"
   ]
  },
  {
   "cell_type": "markdown",
   "metadata": {},
   "source": [
    "### Problem 2\n",
    "Handle the exception thrown by the code below by using <code>try</code> and <code>except</code> blocks. Then use a <code>finally</code> block to print 'All Done.'"
   ]
  },
  {
   "cell_type": "code",
   "execution_count": 2,
   "metadata": {
    "scrolled": true
   },
   "outputs": [
    {
     "name": "stdout",
     "output_type": "stream",
     "text": [
      "Cant't divide by 0\n",
      "All Done\n"
     ]
    }
   ],
   "source": [
    "x = 5\n",
    "y = 0\n",
    "try:\n",
    "    z = x/y\n",
    "except ZeroDivisionError:\n",
    "    print(\"Can\\'t divide by 0\")\n",
    "finally:\n",
    "    print(\"All Done\")"
   ]
  },
  {
   "cell_type": "markdown",
   "metadata": {},
   "source": [
    "### Problem 3\n",
    "Write a function that asks for an integer and prints the square of it. Use a <code>while</code> loop with a <code>try</code>, <code>except</code>, <code>else</code> block to account for incorrect inputs."
   ]
  },
  {
   "cell_type": "code",
   "execution_count": 7,
   "metadata": {},
   "outputs": [],
   "source": [
    "def ask():\n",
    "    while True:\n",
    "        try:\n",
    "            result = int(input(\"Input an integer:\"))\n",
    "            num = result**2\n",
    "        except:\n",
    "            print('An error occrued! Please try again!')\n",
    "            continue\n",
    "        else:\n",
    "            print(f'Thank you, your number squared is {num}')\n",
    "            continue"
   ]
  },
  {
   "cell_type": "code",
   "execution_count": null,
   "metadata": {},
   "outputs": [
    {
     "name": "stdout",
     "output_type": "stream",
     "text": [
      "Input an integer:3\n",
      "Thank you, your number squared is 9\n",
      "Input an integer:3\n",
      "Thank you, your number squared is 9\n",
      "Input an integer:\n",
      "An error occrued! Please try again!\n",
      "Input an integer:65\n",
      "Thank you, your number squared is 4225\n",
      "Input an integer:6.3\n",
      "An error occrued! Please try again!\n",
      "Input an integer:33\n",
      "Thank you, your number squared is 1089\n",
      "Input an integer:81\n",
      "Thank you, your number squared is 6561\n",
      "Input an integer:9\n",
      "Thank you, your number squared is 81\n",
      "Input an integer:12\n",
      "Thank you, your number squared is 144\n",
      "Input an integer:13\n",
      "Thank you, your number squared is 169\n",
      "Input an integer:15\n",
      "Thank you, your number squared is 225\n",
      "Input an integer:16\n",
      "Thank you, your number squared is 256\n",
      "Input an integer:17\n",
      "Thank you, your number squared is 289\n",
      "Input an integer:18\n",
      "Thank you, your number squared is 324\n",
      "Input an integer:19\n",
      "Thank you, your number squared is 361\n",
      "Input an integer:20\n",
      "Thank you, your number squared is 400\n",
      "Input an integer:21\n",
      "Thank you, your number squared is 441\n",
      "Input an integer:22\n",
      "Thank you, your number squared is 484\n",
      "Input an integer:23\n",
      "Thank you, your number squared is 529\n",
      "Input an integer:24\n",
      "Thank you, your number squared is 576\n",
      "Input an integer:25\n",
      "Thank you, your number squared is 625\n",
      "Input an integer:26\n",
      "Thank you, your number squared is 676\n",
      "Input an integer:27\n",
      "Thank you, your number squared is 729\n",
      "Input an integer:28\n",
      "Thank you, your number squared is 784\n",
      "Input an integer:90\n",
      "Thank you, your number squared is 8100\n",
      "Input an integer:30\n",
      "Thank you, your number squared is 900\n"
     ]
    }
   ],
   "source": [
    "ask()"
   ]
  },
  {
   "cell_type": "markdown",
   "metadata": {},
   "source": [
    "# Great Job!"
   ]
  }
 ],
 "metadata": {
  "kernelspec": {
   "display_name": "Python 3",
   "language": "python",
   "name": "python3"
  },
  "language_info": {
   "codemirror_mode": {
    "name": "ipython",
    "version": 3
   },
   "file_extension": ".py",
   "mimetype": "text/x-python",
   "name": "python",
   "nbconvert_exporter": "python",
   "pygments_lexer": "ipython3",
   "version": "3.7.3"
  }
 },
 "nbformat": 4,
 "nbformat_minor": 1
}
